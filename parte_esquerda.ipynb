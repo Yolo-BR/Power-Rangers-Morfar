{
 "cells": [
  {
   "cell_type": "markdown",
   "id": "1c2720ef",
   "metadata": {},
   "source": [
    "# Parte esquerda do corpo\n",
    "\n",
    "## Bibliotecas"
   ]
  },
  {
   "cell_type": "code",
   "execution_count": 1,
   "id": "420c6b44",
   "metadata": {},
   "outputs": [],
   "source": [
    "import numpy as np\n",
    "import mediapipe as mp\n",
    "import cv2 as cv"
   ]
  },
  {
   "cell_type": "markdown",
   "id": "498f2791",
   "metadata": {},
   "source": [
    "## Código para ler os pontos"
   ]
  },
  {
   "cell_type": "code",
   "execution_count": 4,
   "id": "84e89a65",
   "metadata": {},
   "outputs": [],
   "source": [
    "video = cv.VideoCapture(0)\n",
    "mp_postura = mp.solutions.pose\n",
    "mp_desenho_postura = mp.solutions.drawing_utils\n",
    "postura = mp_postura.Pose()\n",
    "\n",
    "while True:\n",
    "    sucesso, frame = video.read()\n",
    "    if sucesso:\n",
    "        frame_rgb = cv.cvtColor(frame, cv.COLOR_BGR2RGB)\n",
    "        results = postura.process(frame_rgb)\n",
    "        pontos_pose = results.pose_landmarks\n",
    "        if pontos_pose:\n",
    "            for id, coord in enumerate(pontos_pose.landmark):\n",
    "                for i in range(32):\n",
    "                    if (((( id % 2) == 1) or (id == 2)) and (id != 5)):\n",
    "                        cv.circle(frame, center=(int(coord.x*640), int(coord.y*480)), radius=2, color=(0, 255, 0), thickness=2)\n",
    "                        break\n",
    "\n",
    "        if cv.waitKey(1) == 32: \n",
    "            break\n",
    "        cv.imshow(\"Video\", frame)\n",
    "    else:\n",
    "        print(\"deu ruim\")\n",
    "        break\n",
    "video.release()\n",
    "cv.destroyAllWindows()"
   ]
  },
  {
   "cell_type": "markdown",
   "id": "f23b69a5",
   "metadata": {},
   "source": []
  }
 ],
 "metadata": {
  "kernelspec": {
   "display_name": "Python 3",
   "language": "python",
   "name": "python3"
  },
  "language_info": {
   "codemirror_mode": {
    "name": "ipython",
    "version": 3
   },
   "file_extension": ".py",
   "mimetype": "text/x-python",
   "name": "python",
   "nbconvert_exporter": "python",
   "pygments_lexer": "ipython3",
   "version": "3.11.9"
  }
 },
 "nbformat": 4,
 "nbformat_minor": 5
}
