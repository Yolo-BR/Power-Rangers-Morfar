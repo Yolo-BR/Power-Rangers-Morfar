{
 "cells": [
  {
   "cell_type": "markdown",
   "id": "1c2720ef",
   "metadata": {},
   "source": [
    "# Parte esquerda do corpo\n",
    "\n",
    "## Bibliotecas"
   ]
  },
  {
   "cell_type": "code",
   "execution_count": 1,
   "id": "420c6b44",
   "metadata": {},
   "outputs": [],
   "source": [
    "import numpy as np\n",
    "import mediapipe as mp\n",
    "import cv2 as cv"
   ]
  },
  {
   "cell_type": "markdown",
   "id": "498f2791",
   "metadata": {},
   "source": [
    "## Código para ler os pontos"
   ]
  },
  {
   "cell_type": "code",
   "execution_count": null,
   "id": "84e89a65",
   "metadata": {},
   "outputs": [
    {
     "ename": "TypeError",
     "evalue": "unsupported operand type(s) for %: 'tuple' and 'int'",
     "output_type": "error",
     "traceback": [
      "\u001b[31m---------------------------------------------------------------------------\u001b[39m",
      "\u001b[31mTypeError\u001b[39m                                 Traceback (most recent call last)",
      "\u001b[36mCell\u001b[39m\u001b[36m \u001b[39m\u001b[32mIn[4]\u001b[39m\u001b[32m, line 17\u001b[39m\n\u001b[32m     14\u001b[39m \u001b[38;5;28;01mif\u001b[39;00m pontos_pose:\n\u001b[32m     15\u001b[39m     \u001b[38;5;28;01mfor\u001b[39;00m \u001b[38;5;28mid\u001b[39m \u001b[38;5;129;01min\u001b[39;00m \u001b[38;5;28menumerate\u001b[39m(pontos_pose.landmark):\n\u001b[32m---> \u001b[39m\u001b[32m17\u001b[39m         \u001b[38;5;28;01mif\u001b[39;00m ((( \u001b[38;5;28;43mid\u001b[39;49m\u001b[43m \u001b[49m\u001b[43m%\u001b[49m\u001b[43m \u001b[49m\u001b[32;43m2\u001b[39;49m) == \u001b[32m1\u001b[39m) \u001b[38;5;129;01mor\u001b[39;00m (\u001b[38;5;28mid\u001b[39m == \u001b[32m2\u001b[39m)) \u001b[38;5;129;01mand\u001b[39;00m (\u001b[38;5;28mid\u001b[39m != \u001b[32m5\u001b[39m):\n\u001b[32m     18\u001b[39m             \u001b[38;5;28;01mbreak\u001b[39;00m\n\u001b[32m     19\u001b[39m     \u001b[38;5;28;01mif\u001b[39;00m cv.waitKey(\u001b[32m1\u001b[39m) == \u001b[32m32\u001b[39m: \n",
      "\u001b[31mTypeError\u001b[39m: unsupported operand type(s) for %: 'tuple' and 'int'"
     ]
    }
   ],
   "source": [
    "video = cv.VideoCapture(0)\n",
    "mp_postura = mp.solutions.pose\n",
    "mp_desenho_postura = mp.solutions.drawing_utils\n",
    "postura = mp_postura.Pose()\n",
    "\n",
    "while True:\n",
    "    sucesso, frame = video.read()\n",
    "    if sucesso:\n",
    "        frame_rgb = cv.cvtColor(frame, cv.COLOR_BGR2RGB)\n",
    "        results = postura.process(frame_rgb)\n",
    "        pontos_pose = results.pose_landmarks\n",
    "        \n",
    "        mp_desenho_postura.draw_landmarks(frame, results.pose_landmarks, mp_postura.POSE_CONNECTIONS)\n",
    "        if pontos_pose:\n",
    "            for id in enumerate(pontos_pose.landmark):\n",
    "                    \n",
    "                if ((( id % 2) == 1) or (id == 2)) and (id != 5):\n",
    "                    break\n",
    "            if cv.waitKey(1) == 32: \n",
    "                break\n",
    "            cv.imshow(\"Video\", frame)\n",
    "    else:\n",
    "        print(\"deu ruim\")\n",
    "        break\n",
    "\n",
    "\n",
    "video.release()\n",
    "cv.destroyAllWindows()"
   ]
  },
  {
   "cell_type": "markdown",
   "id": "f23b69a5",
   "metadata": {},
   "source": []
  }
 ],
 "metadata": {
  "kernelspec": {
   "display_name": "Python 3",
   "language": "python",
   "name": "python3"
  },
  "language_info": {
   "codemirror_mode": {
    "name": "ipython",
    "version": 3
   },
   "file_extension": ".py",
   "mimetype": "text/x-python",
   "name": "python",
   "nbconvert_exporter": "python",
   "pygments_lexer": "ipython3",
   "version": "3.11.9"
  }
 },
 "nbformat": 4,
 "nbformat_minor": 5
}
