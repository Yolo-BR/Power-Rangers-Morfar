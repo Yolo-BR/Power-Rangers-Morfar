{
 "cells": [
  {
   "cell_type": "markdown",
   "id": "6ac746cc",
   "metadata": {},
   "source": [
    "## Lado direito do corpo"
   ]
  },
  {
   "cell_type": "code",
   "execution_count": null,
   "id": "c56ba37a",
   "metadata": {},
   "outputs": [],
   "source": [
    "import numpy as np\n",
    "import mediapipe as mp\n",
    "import cv2 as cv\n",
    "import math"
   ]
  },
  {
   "cell_type": "code",
   "execution_count": null,
   "id": "dec8b4f8",
   "metadata": {},
   "outputs": [],
   "source": [
    "video = cv.VideoCapture(0)\n",
    "mp_postura = mp.solutions.pose\n",
    "mp_desenho_postura = mp.solutions.drawing_utils\n",
    "postura = mp_postura.Pose()"
   ]
  },
  {
   "cell_type": "code",
   "execution_count": null,
   "id": "83d30bc5",
   "metadata": {},
   "outputs": [],
   "source": [
    "while True:\n",
    "    sucesso, frame = video.read()\n",
    "    if sucesso:\n",
    "        frame_rgb = cv.cvtColor(frame, cv.COLOR_BGR2RGB)\n",
    "        results = postura.process(frame_rgb)\n",
    "        pontos_pose = results.pose_landmarks \n",
    "    \n",
    "        mp_desenho_postura.draw_landmarks(frame, results.pose_landmarks, mp_postura.POSE_CONNECTIONS)\n",
    "        if pontos_pose:\n",
    "            for id, coord in enumerate(pontos_pose.landmark):\n",
    "                if id == 24:\n",
    "                    coord_cintura_dir_x = coord.x\n",
    "                    coord_cintura_dir_y= coord.y\n",
    "                elif id == 12:\n",
    "                    coord_ombro_direito_x = coord.x\n",
    "                    coord_ombro_direito_y = coord.y\n",
    "                elif id == 8:\n",
    "                    coord_ouvido_dir_x = coord.x\n",
    "                    coord_ouvido_dir_y = coord.y\n",
    "                elif id == 10: \n",
    "                    coord_boca_direita_x = coord.x\n",
    "                    coord_boca_direita_y = coord.y\n",
    "                elif id == 14:\n",
    "                    coord_cotovelo_direito_x = coord.x\n",
    "                    coord_cotovelo_direito_y = coord.y\n",
    "                elif id == 16:\n",
    "                    coord_mao_direita_x = coord.x\n",
    "                    coord_mao_esquerda_y = coord.y\n",
    "                elif id == 28:\n",
    "                    coord_pe_direito_x = coord.x\n",
    "                    ccoord_pe_direito_y = coord.y\n",
    "                elif id == 32:\n",
    "                    coord_dedao_direito_x = coord.x\n",
    "                    coord_dedado_direito_y = coord.y\n",
    "                elif id == 30:\n",
    "                    coord_calcanhar_x = coord.x\n",
    "                    coord_calcanhar_y = coord.y\n",
    "                elif id == 6:\n",
    "                    coord_olho_x_externo = coord.x\n",
    "                    coord_olho_y_externo = coord.y\n",
    "                elif id == 5:\n",
    "                    coord_olho_centro_x = coord.x\n",
    "                    coord_olho_centro_y = coord.y\n",
    "                elif id == 25:\n",
    "                    coord_joelho_direito_x = coord.x\n",
    "                    coord_joelho_direito_y = coord.y\n",
    "                elif id == 4:\n",
    "                    coord_olho_interno_x = coord.x\n",
    "                    coord_olho_interno_y = coord.y\n",
    "                elif id == 18:\n",
    "                    coord_mindinho_x = coord.x\n",
    "                    coord_mindinho_y = coord.y\n",
    "                elif id == 20:\n",
    "                    coord_indicador_x = coord.x\n",
    "                    coord_indicador_y = coord.y\n",
    "                elif id == 22:\n",
    "                    coord_polegar_x = coord.x\n",
    "                    coord_polegar_y = coord.y\n",
    "                elif id == 0:\n",
    "                    coord_nariz_x = coord.x\n",
    "                    coord_nariz_y = coord.y\n",
    "                \n",
    "            if cv.waitKey(1) == 32:\n",
    "                break\n",
    "        cv.imshow(\"Video\", frame)\n",
    "    else:\n",
    "        break\n",
    "    #lorem ipsum dolor\n",
    "\n",
    "video.release()\n",
    "cv.destroyAllWindows()"
   ]
  }
 ],
 "metadata": {
  "language_info": {
   "name": "python"
  }
 },
 "nbformat": 4,
 "nbformat_minor": 5
}
